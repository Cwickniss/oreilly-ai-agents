{
 "cells": [
  {
   "cell_type": "code",
   "execution_count": 1,
   "id": "3b7a10b5-1673-4895-a461-d4fcffdfde49",
   "metadata": {
    "scrolled": true
   },
   "outputs": [
    {
     "name": "stdout",
     "output_type": "stream",
     "text": [
      "Collecting git+https://github.com/sinanuozdemir/squad-goals.git\n",
      "  Cloning https://github.com/sinanuozdemir/squad-goals.git to /private/var/folders/y9/9xqbqkg90tnc0cmm0dxt985m0000gn/T/pip-req-build-u7pgb2i9\n",
      "  Running command git clone --filter=blob:none --quiet https://github.com/sinanuozdemir/squad-goals.git /private/var/folders/y9/9xqbqkg90tnc0cmm0dxt985m0000gn/T/pip-req-build-u7pgb2i9\n",
      "  Resolved https://github.com/sinanuozdemir/squad-goals.git to commit 8fc409b3c3f857fdded35f074b4d5931b55709ef\n",
      "  Installing build dependencies ... \u001b[?25ldone\n",
      "\u001b[?25h  Getting requirements to build wheel ... \u001b[?25ldone\n",
      "\u001b[?25h  Preparing metadata (pyproject.toml) ... \u001b[?25ldone\n",
      "\u001b[?25hRequirement already satisfied: requests in /Users/sinanozdemir/Teaching/Pearson/oreilly-ai-agents/venv/lib/python3.10/site-packages (from Agents==0.1) (2.32.3)\n",
      "Requirement already satisfied: charset-normalizer<4,>=2 in /Users/sinanozdemir/Teaching/Pearson/oreilly-ai-agents/venv/lib/python3.10/site-packages (from requests->Agents==0.1) (3.4.0)\n",
      "Requirement already satisfied: idna<4,>=2.5 in /Users/sinanozdemir/Teaching/Pearson/oreilly-ai-agents/venv/lib/python3.10/site-packages (from requests->Agents==0.1) (3.10)\n",
      "Requirement already satisfied: urllib3<3,>=1.21.1 in /Users/sinanozdemir/Teaching/Pearson/oreilly-ai-agents/venv/lib/python3.10/site-packages (from requests->Agents==0.1) (2.2.3)\n",
      "Requirement already satisfied: certifi>=2017.4.17 in /Users/sinanozdemir/Teaching/Pearson/oreilly-ai-agents/venv/lib/python3.10/site-packages (from requests->Agents==0.1) (2024.8.30)\n",
      "Building wheels for collected packages: Agents\n",
      "  Building wheel for Agents (pyproject.toml) ... \u001b[?25ldone\n",
      "\u001b[?25h  Created wheel for Agents: filename=Agents-0.1-py3-none-any.whl size=6622 sha256=1163ff66f1ca168a2c5f863e1eea5b8a8913331530f48ecc89000a866e8f56ca\n",
      "  Stored in directory: /private/var/folders/y9/9xqbqkg90tnc0cmm0dxt985m0000gn/T/pip-ephem-wheel-cache-i9xl389n/wheels/c1/1a/3d/b8af087e2ae8213ee831c7c8d0f7e5a4c42aa8d06edf12726f\n",
      "Successfully built Agents\n",
      "Installing collected packages: Agents\n",
      "Successfully installed Agents-0.1\n",
      "\n",
      "\u001b[1m[\u001b[0m\u001b[34;49mnotice\u001b[0m\u001b[1;39;49m]\u001b[0m\u001b[39;49m A new release of pip is available: \u001b[0m\u001b[31;49m24.1.2\u001b[0m\u001b[39;49m -> \u001b[0m\u001b[32;49m24.3\u001b[0m\n",
      "\u001b[1m[\u001b[0m\u001b[34;49mnotice\u001b[0m\u001b[1;39;49m]\u001b[0m\u001b[39;49m To update, run: \u001b[0m\u001b[32;49mpip install --upgrade pip\u001b[0m\n"
     ]
    }
   ],
   "source": [
    "!pip install git+https://github.com/sinanuozdemir/squad-goals.git"
   ]
  },
  {
   "cell_type": "code",
   "execution_count": 2,
   "id": "initial_id",
   "metadata": {
    "ExecuteTime": {
     "end_time": "2024-10-26T18:50:39.842642Z",
     "start_time": "2024-10-26T18:50:39.323292Z"
    }
   },
   "outputs": [],
   "source": [
    "from squad_goals import Agent, Task\n",
    "from squad_goals.tools import SerpTool\n",
    "from squad_goals.llms import OpenAILLM"
   ]
  },
  {
   "cell_type": "code",
   "execution_count": null,
   "id": "6d2d7ac3-2a79-4fbe-b53f-932f43e75558",
   "metadata": {},
   "outputs": [],
   "source": [
    "import os\n",
    "os.environ['SERP_API_KEY'] = 'your_serp_key'\n",
    "os.environ['OPENAI_API_KEY'] = 'your_openai_key'"
   ]
  },
  {
   "cell_type": "code",
   "execution_count": 5,
   "id": "b571194fd5c2b337",
   "metadata": {
    "ExecuteTime": {
     "end_time": "2024-10-26T18:50:39.877219Z",
     "start_time": "2024-10-26T18:50:39.844962Z"
    },
    "collapsed": false,
    "jupyter": {
     "outputs_hidden": false
    }
   },
   "outputs": [
    {
     "data": {
      "text/plain": [
       "'The capital of Turkey is Ankara.'"
      ]
     },
     "execution_count": 5,
     "metadata": {},
     "output_type": "execute_result"
    }
   ],
   "source": [
    "openai_llm = OpenAILLM(model_name='gpt-4o-mini')  \n",
    "openai_llm.generate([{'role': 'user', 'content': 'What is the capital of Turkey?'}])"
   ]
  },
  {
   "cell_type": "code",
   "execution_count": 6,
   "id": "ec3f81ddf9747c02",
   "metadata": {
    "ExecuteTime": {
     "end_time": "2024-10-26T18:50:39.877419Z",
     "start_time": "2024-10-26T18:50:39.853590Z"
    },
    "collapsed": false,
    "jupyter": {
     "outputs_hidden": false
    }
   },
   "outputs": [],
   "source": [
    "serp_tool = SerpTool()"
   ]
  },
  {
   "cell_type": "code",
   "execution_count": 7,
   "id": "74913597e9f550b9",
   "metadata": {
    "ExecuteTime": {
     "end_time": "2024-10-26T18:50:40.147603Z",
     "start_time": "2024-10-26T18:50:40.141141Z"
    },
    "collapsed": false,
    "jupyter": {
     "outputs_hidden": false
    }
   },
   "outputs": [],
   "source": [
    "a = Agent(\n",
    "    tools=[serp_tool],\n",
    "    llm=openai_llm,\n",
    "    verbose=False\n",
    ")"
   ]
  },
  {
   "cell_type": "code",
   "execution_count": 8,
   "id": "c7fffe4ea52c859c",
   "metadata": {
    "ExecuteTime": {
     "end_time": "2024-10-26T18:50:47.243146Z",
     "start_time": "2024-10-26T18:50:42.235429Z"
    },
    "collapsed": false,
    "jupyter": {
     "outputs_hidden": false
    }
   },
   "outputs": [
    {
     "name": "stdout",
     "output_type": "stream",
     "text": [
      "tool SerpAPI Tool\n",
      "tool_input Sinan Ozdemir biography\n",
      "tool Return Final Answer Tool\n",
      "tool_input Sinan Ozdemir is a data scientist, mathematician, author, and lecturer with expertise in artificial intelligence and machine learning. He has been involved in education at Johns Hopkins University and has authored multiple textbooks on data science. Additionally, he is the founder of LoopGenius, a company focused on helping startups with customer acquisition. He has made significant contributions to the field, particularly in algorithms and healthcare data analytics.\n",
      "tool Assistant Response\n",
      "tool_input Sinan Ozdemir is a data scientist, mathematician, author, and lecturer with expertise in artificial intelligence and machine learning. He has been involved in education at Johns Hopkins University and has authored multiple textbooks on data science. Additionally, he is the founder of LoopGenius, a company focused on helping startups with customer acquisition. He has made significant contributions to the field, particularly in algorithms and healthcare data analytics.\n"
     ]
    },
    {
     "data": {
      "text/plain": [
       "'Sinan Ozdemir is a data scientist, mathematician, author, and lecturer with expertise in artificial intelligence and machine learning. He has been involved in education at Johns Hopkins University and has authored multiple textbooks on data science. Additionally, he is the founder of LoopGenius, a company focused on helping startups with customer acquisition. He has made significant contributions to the field, particularly in algorithms and healthcare data analytics.'"
      ]
     },
     "execution_count": 8,
     "metadata": {},
     "output_type": "execute_result"
    }
   ],
   "source": [
    "lookup_task = Task(\n",
    "    name='Lookup',\n",
    "    goal='Tell me about Sinan Ozdemir. Only make one web search.',\n",
    ")\n",
    "a.run(lookup_task)"
   ]
  },
  {
   "cell_type": "code",
   "execution_count": 9,
   "id": "573bdaa1fcc4dc85",
   "metadata": {
    "ExecuteTime": {
     "end_time": "2024-10-26T18:51:11.658927Z",
     "start_time": "2024-10-26T18:51:04.499025Z"
    },
    "collapsed": false,
    "jupyter": {
     "outputs_hidden": false
    }
   },
   "outputs": [
    {
     "name": "stdout",
     "output_type": "stream",
     "text": [
      "tool SerpAPI Tool\n",
      "tool_input Sinan Ozdemir news biography profile\n",
      "tool SerpAPI Tool\n",
      "tool_input Sinan Ozdemir AI expert biography\n",
      "tool SerpAPI Tool\n",
      "tool_input Sinan Ozdemir contributions projects in AI and data science\n",
      "tool Return Final Answer Tool\n",
      "tool_input Sinan Ozdemir is an accomplished AI expert, data scientist, and educator, notable for his significant contributions to the field of artificial intelligence and machine learning. He is the founder and CTO of LoopGenius, leveraging advanced AI technologies to assist businesses. A former lecturer at Johns Hopkins University, he has authored multiple books, including 'Quick Start Guide to Large Language Models' and 'Principles of Data Science,' and has advised Tola Capital on AI-driven investments. His early career included work on a fraud detection algorithm for the UID project in India. Sinan is also involved in various AI initiatives and has spoken at numerous conferences, addressing topics related to generative AI and data science.\n",
      "tool Assistant Response\n",
      "tool_input Sinan Ozdemir is an accomplished AI expert, data scientist, and educator, notable for his significant contributions to the field of artificial intelligence and machine learning. He is the founder and CTO of LoopGenius, leveraging advanced AI technologies to assist businesses. A former lecturer at Johns Hopkins University, he has authored multiple books, including \"Quick Start Guide to Large Language Models\" and \"Principles of Data Science,\" and has advised Tola Capital on AI-driven investments. His early career included work on a fraud detection algorithm for the UID project in India. Sinan is also involved in various AI initiatives and has spoken at numerous conferences, addressing topics related to generative AI and data science.\n"
     ]
    },
    {
     "data": {
      "text/plain": [
       "'Sinan Ozdemir is an accomplished AI expert, data scientist, and educator, notable for his significant contributions to the field of artificial intelligence and machine learning. He is the founder and CTO of LoopGenius, leveraging advanced AI technologies to assist businesses. A former lecturer at Johns Hopkins University, he has authored multiple books, including \"Quick Start Guide to Large Language Models\" and \"Principles of Data Science,\" and has advised Tola Capital on AI-driven investments. His early career included work on a fraud detection algorithm for the UID project in India. Sinan is also involved in various AI initiatives and has spoken at numerous conferences, addressing topics related to generative AI and data science.'"
      ]
     },
     "execution_count": 9,
     "metadata": {},
     "output_type": "execute_result"
    }
   ],
   "source": [
    "wider_lookup_task = Task(\n",
    "    name='Lookup',\n",
    "    goal='Tell me about Sinan Ozdemir. Make multiple web lookups.',\n",
    ")\n",
    "a = Agent(\n",
    "    tools=[serp_tool],\n",
    "    llm=openai_llm,\n",
    "    verbose=False\n",
    ")\n",
    "a.run(wider_lookup_task)"
   ]
  },
  {
   "cell_type": "code",
   "execution_count": 7,
   "id": "f21645b5f97680c9",
   "metadata": {
    "ExecuteTime": {
     "end_time": "2024-10-26T18:45:33.592865Z",
     "start_time": "2024-10-26T18:45:33.568884Z"
    },
    "collapsed": false,
    "jupyter": {
     "outputs_hidden": false
    }
   },
   "outputs": [],
   "source": []
  }
 ],
 "metadata": {
  "kernelspec": {
   "display_name": "Python 3 (ipykernel)",
   "language": "python",
   "name": "python3"
  },
  "language_info": {
   "codemirror_mode": {
    "name": "ipython",
    "version": 3
   },
   "file_extension": ".py",
   "mimetype": "text/x-python",
   "name": "python",
   "nbconvert_exporter": "python",
   "pygments_lexer": "ipython3",
   "version": "3.10.14"
  }
 },
 "nbformat": 4,
 "nbformat_minor": 5
}
